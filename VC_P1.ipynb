{
 "cells": [
  {
   "cell_type": "markdown",
   "metadata": {},
   "source": [
    "Paquetes necesarios"
   ]
  },
  {
   "cell_type": "code",
   "execution_count": 2,
   "metadata": {},
   "outputs": [],
   "source": [
    "import cv2  \n",
    "import numpy as np\n",
    "import matplotlib.pyplot as plt"
   ]
  },
  {
   "cell_type": "markdown",
   "metadata": {},
   "source": [
    "Inicializaciones"
   ]
  },
  {
   "cell_type": "code",
   "execution_count": 3,
   "metadata": {},
   "outputs": [],
   "source": [
    "#Dimensiones de la imagen a crear\n",
    "ancho = 300\n",
    "alto = 200"
   ]
  },
  {
   "cell_type": "markdown",
   "metadata": {},
   "source": [
    "TAREA: Crea una imagen, p.e. de 800x800 píxeles, con la textura del tablero de ajedrez"
   ]
  },
  {
   "cell_type": "code",
   "execution_count": null,
   "metadata": {},
   "outputs": [],
   "source": []
  },
  {
   "cell_type": "markdown",
   "metadata": {},
   "source": [
    "TAREA: Crear una imagen estilo Mondrian (un ejemplo https://www3.gobiernodecanarias.org/medusa/ecoescuela/sa/2017/04/17/descubriendo-a-mondrian/ )"
   ]
  },
  {
   "cell_type": "code",
   "execution_count": null,
   "metadata": {},
   "outputs": [],
   "source": []
  },
  {
   "cell_type": "markdown",
   "metadata": {},
   "source": [
    "TAREA: Resuelve una de las tareas previas (a elegir) con las funciones de dibujo de OpenCV  :)"
   ]
  },
  {
   "cell_type": "code",
   "execution_count": 4,
   "metadata": {},
   "outputs": [
    {
     "data": {
      "image/png": "[encoded data removed]",
      "text/plain": [
       "<Figure size 640x480 with 1 Axes>"
      ]
     },
     "metadata": {},
     "output_type": "display_data"
    }
   ],
   "source": [
    "color_img = np.ones((alto, ancho, 3), dtype=np.uint8) * 255 #Fondo blanco\n",
    "\n",
    "celda = 50 \n",
    "\n",
    "for i in range(0, ancho, celda):\n",
    "    cv2.line(color_img, (i, 0), (i, alto), (0, 0, 0), 2)  #Líneas negras verticales\n",
    "for j in range(0, alto, celda):\n",
    "    cv2.line(color_img, (0, j), (ancho, j), (0, 0, 0), 2)  #Líneas negras horizontales\n",
    "\n",
    "#Rectángulos\n",
    "cv2.rectangle(color_img, (0, 0), (48, 48), (255, 255, 0), -1)\n",
    "cv2.rectangle(color_img, (52, 0), (148, 48), (0, 0, 255), -1)\n",
    "cv2.rectangle(color_img, (152, 0), (248, 48), (255, 0, 0), -1)\n",
    "cv2.rectangle(color_img, (252, 0), (300, 48), (255, 255, 0), -1)\n",
    "\n",
    "cv2.rectangle(color_img, (52, 52), (148, 98), (255, 255, 255), -1)\n",
    "cv2.rectangle(color_img, (152, 52), (248, 98), (0, 0, 255), -1)\n",
    "cv2.rectangle(color_img, (252, 52), (298, 98), (255, 0, 0), -1)\n",
    "\n",
    "cv2.rectangle(color_img, (0, 102), (48, 300), (0, 0, 255), -1)\n",
    "cv2.rectangle(color_img, (52, 102), (198, 148), (255, 0, 0), -1)\n",
    "cv2.rectangle(color_img, (252, 102), (298, 148), (255, 255, 0), -1)\n",
    "\n",
    "cv2.rectangle(color_img, (52, 152), (198, 300), (255, 255, 0), -1)\n",
    "cv2.rectangle(color_img, (202, 152), (300, 300), (255, 255, 255), -1)\n",
    "\n",
    "plt.imshow(color_img) \n",
    "plt.show()"
   ]
  },
  {
   "cell_type": "markdown",
   "metadata": {},
   "source": [
    "TAREA: Modifica de forma libre los valores de un plano de la imagen"
   ]
  },
  {
   "cell_type": "code",
   "execution_count": 5,
   "metadata": {},
   "outputs": [],
   "source": [
    "vid = cv2.VideoCapture(0)\n",
    "  \n",
    "while(True):      \n",
    "    # fotograma a fotograma\n",
    "    ret, frame = vid.read()\n",
    "\n",
    "    if ret:\n",
    "        #Separamos canales\n",
    "        b = frame[:,:,0]\n",
    "        g = frame[:,:,1]\n",
    "        r = frame[:,:,2]\n",
    "        #Dimensiones imagen de entrada\n",
    "        h, w, c = frame.shape\n",
    "        \n",
    "        #Se crea un canal modificado a partir de copia (Ejemplo: g)\n",
    "        modified_g = g.copy()\n",
    "        modified_g[:h,:w] = r + g\n",
    "\n",
    "        #Concateamos en horizontal los tres planos del fotograma\n",
    "        collage = np.hstack((r, modified_g, b))\n",
    "    \n",
    "        # Muestra fotograma redimensionando a la mitad para que quepa en pantalla\n",
    "        cv2.imshow('RGB', cv2.resize(collage, (int(w*1.5),int(h/2)),cv2.INTER_NEAREST))\n",
    "    \n",
    "    # Detenemos pulsado ESC\n",
    "    if cv2.waitKey(20) == 27:\n",
    "        break\n",
    "  \n",
    "# Libera el objeto de captura\n",
    "vid.release()\n",
    "# Destruye ventanas\n",
    "cv2.destroyAllWindows()"
   ]
  },
  {
   "cell_type": "markdown",
   "metadata": {},
   "source": [
    "TAREA:\n",
    "Pintar círculos en las posiciones del píxel más claro y oscuro de la imagen \n",
    "¿Si quisieras hacerlo sobre la zona 8x8 más clara/oscura?"
   ]
  },
  {
   "cell_type": "code",
   "execution_count": 11,
   "metadata": {},
   "outputs": [],
   "source": []
  },
  {
   "cell_type": "markdown",
   "metadata": {},
   "source": [
    "TAREA: Llevar a cabo una propuesta propia de pop art"
   ]
  },
  {
   "cell_type": "code",
   "execution_count": 19,
   "metadata": {},
   "outputs": [
    {
     "name": "stderr",
     "output_type": "stream",
     "text": [
      "C:\\Users\\Sara\\AppData\\Local\\Temp\\ipykernel_1860\\1743381023.py:41: RuntimeWarning: overflow encountered in scalar add\n",
      "  avg_color = (r + g + b) // 3\n"
     ]
    }
   ],
   "source": [
    "vid = cv2.VideoCapture(0)\n",
    "\n",
    "# Dimensiones de la cámara\n",
    "w = int(vid.get(cv2.CAP_PROP_FRAME_WIDTH))\n",
    "h = int(vid.get(cv2.CAP_PROP_FRAME_HEIGHT))\n",
    "\n",
    "#Fuerzo a mitad de resolución para ocupar menos pantalla\n",
    "w = int(w / 2)\n",
    "h = int(h / 2)\n",
    "vid.set(cv2.CAP_PROP_FRAME_WIDTH, w)\n",
    "vid.set(cv2.CAP_PROP_FRAME_HEIGHT, h)\n",
    "\n",
    "# Imagen conjunta 2x original\n",
    "collage = np.zeros((h * 2, w * 2, 3), dtype=np.uint8)\n",
    "tl = collage[0:h, 0:w]\n",
    "tr = collage[0:h, w:w + w]\n",
    "bl = collage[h:h + h, 0:w]\n",
    "br = collage[h:h + h, w:w + w]\n",
    "\n",
    "# Se define el número de celdas\n",
    "ncells = 12\n",
    "off = int(ncells / 2)\n",
    "\n",
    "def add_dots_effect(image, ncells=15):\n",
    "    #Dimensiones originales\n",
    "    h, w, c = image.shape\n",
    "    #Redimensiono teniendo en cuenta ncells\n",
    "    down_frame = cv2.resize(image, (int(w / ncells), int(h / ncells)), cv2.INTER_NEAREST)\n",
    "    #Dimensiones reducidas\n",
    "    h2, w2, c2 = down_frame.shape\n",
    "\n",
    "    # Recorremos los valores de la imagen reducida para superponer puntos\n",
    "    for y in range(0, h2):\n",
    "        for x in range(0, w2):\n",
    "            #Separamos canales\n",
    "            r = down_frame[y, x, 2]\n",
    "            g = down_frame[y, x, 1]\n",
    "            b = down_frame[y, x, 0]\n",
    "            \n",
    "            # Ajustamos el color del punto para que contraste con el fondo\n",
    "            avg_color = (r + g + b) // 3\n",
    "            contrast_factor = 1.5  # Factor de contraste\n",
    "            bright_r = int(min(255, r * contrast_factor))\n",
    "            bright_g = int(min(255, g * contrast_factor))\n",
    "            bright_b = int(min(255, b * contrast_factor))\n",
    "            color = (int(bright_b), int(bright_g), int(bright_r))  # Color del punto más brillante\n",
    "\n",
    "            # Ajustamos el radio en función del brillo de la celda, un poco más grande para mejor visibilidad\n",
    "            rad = int((avg_color) / (ncells * 2)) + 2  # Hacemos los puntos más visibles\n",
    "\n",
    "            # Dibujamos los círculos sobre la imagen original\n",
    "            cv2.circle(image, (x * ncells + off, y * ncells + off), max(2, rad), color, -1)\n",
    "\n",
    "    return image\n",
    "\n",
    "while True:\n",
    "    # Fotograma a fotograma\n",
    "    ret, frameIN = vid.read()\n",
    "\n",
    "    # Redimensionamos el fotograma para ajustarse al tamaño deseado\n",
    "    frame = cv2.resize(frameIN, (int(w), int(h)), cv2.INTER_NEAREST)\n",
    "\n",
    "    if ret:\n",
    "        # Separamos canales\n",
    "        r = frame[:, :, 2]\n",
    "        g = frame[:, :, 1]\n",
    "        b = frame[:, :, 0]\n",
    "\n",
    "        #Jugamos con los valores de los planos\n",
    "        # Top-left Original\n",
    "        tl[:, :, 0] = b\n",
    "        tl[:, :, 1] = g\n",
    "        tl[:, :, 2] = r\n",
    "\n",
    "        # Top-right naranja rosa\n",
    "        tr[:, :, 0] = 155 -r\n",
    "        tr[:, :, 1] = 0 +r\n",
    "        tr[:, :, 2] = 200\n",
    "        \n",
    "\n",
    "        # Bottom-left verde azul\n",
    "        bl[:, :, 0] = 255 -b\n",
    "        bl[:, :, 1] = 255 +b\n",
    "        bl[:, :, 2] = 55\n",
    "\n",
    "        # Bottom-right amarillo lila\n",
    "        br[:, :, 0] = 255 -b\n",
    "        br[:, :, 1] = 0 +b\n",
    "        br[:, :, 2] = 155\n",
    "\n",
    "        # Añadimos efecto puntos\n",
    "        dotted_collage = np.zeros_like(collage)\n",
    "        dotted_collage[0:h, 0:w] = tl  # Top-left, sin efecto\n",
    "        dotted_collage[0:h, w:w + w] = add_dots_effect(tr.copy(), ncells)\n",
    "        dotted_collage[h:h + h, 0:w] = add_dots_effect(bl.copy(), ncells)\n",
    "        dotted_collage[h:h + h, w:w + w] = add_dots_effect(br.copy(), ncells)\n",
    "\n",
    "        # Muestra composición\n",
    "        cv2.imshow('Cam', dotted_collage)\n",
    "\n",
    "    # Detenemos pulsado ESC\n",
    "    if cv2.waitKey(20) == 27:\n",
    "        break\n",
    "\n",
    "# Libera el objeto de captura\n",
    "vid.release()\n",
    "# Destruye ventanas\n",
    "cv2.destroyAllWindows()"
   ]
  }
 ],
 "metadata": {
  "kernelspec": {
   "display_name": "Python 3.7.3 ('FACES')",
   "language": "python",
   "name": "python3"
  },
  "language_info": {
   "codemirror_mode": {
    "name": "ipython",
    "version": 3
   },
   "file_extension": ".py",
   "mimetype": "text/x-python",
   "name": "python",
   "nbconvert_exporter": "python",
   "pygments_lexer": "ipython3",
   "version": "3.11.9"
  },
  "orig_nbformat": 4,
  "vscode": {
   "interpreter": {
    "hash": "ea3a1ee99ce326e593ddb52cd278556d527fcb6552c40e2a47b1efb9d0183637"
   }
  }
 },
 "nbformat": 4,
 "nbformat_minor": 2
}
